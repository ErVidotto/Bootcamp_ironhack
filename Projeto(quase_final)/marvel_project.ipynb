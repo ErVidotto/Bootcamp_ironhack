{
 "cells": [
  {
   "cell_type": "code",
   "execution_count": 1,
   "id": "strange-steel",
   "metadata": {},
   "outputs": [],
   "source": [
    "import requests\n",
    "import pandas as pd\n",
    "import numpy as np"
   ]
  },
  {
   "cell_type": "code",
   "execution_count": 2,
   "id": "exotic-physics",
   "metadata": {},
   "outputs": [],
   "source": [
    "response = requests.get('https://marvel.fandom.com/pt-br/wiki/P%C3%A1gina_principal')"
   ]
  },
  {
   "cell_type": "code",
   "execution_count": 7,
   "id": "residential-saying",
   "metadata": {},
   "outputs": [
    {
     "output_type": "execute_result",
     "data": {
      "text/plain": [
       "requests.models.Response"
      ]
     },
     "metadata": {},
     "execution_count": 7
    }
   ],
   "source": [
    "type(response)"
   ]
  }
 ],
 "metadata": {
  "kernelspec": {
   "name": "python385jvsc74a57bd06e49273026b2c8fbb95936f020c2ffbf927102d69a300b647c01995a6c834c60",
   "display_name": "Python 3.8.5 64-bit (conda)"
  },
  "language_info": {
   "codemirror_mode": {
    "name": "ipython",
    "version": 3
   },
   "file_extension": ".py",
   "mimetype": "text/x-python",
   "name": "python",
   "nbconvert_exporter": "python",
   "pygments_lexer": "ipython3",
   "version": "3.8.5"
  }
 },
 "nbformat": 4,
 "nbformat_minor": 5
}