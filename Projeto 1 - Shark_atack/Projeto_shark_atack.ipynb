{
 "cells": [
  {
   "cell_type": "markdown",
   "id": "miniature-wellington",
   "metadata": {},
   "source": [
    "# Projeto Sharck Atack"
   ]
  },
  {
   "cell_type": "markdown",
   "id": "molecular-metropolitan",
   "metadata": {},
   "source": [
    "#### Perguntas a serem respondidas com esta analise.\n",
    "#### 1 - Quais as atividades com maior risco de ataque de tubarões? \n",
    "#### 2 - Quais os tubarões com maior taxa de ataque? \n",
    "#### 3 - Quais estações do ano existe mais ataques? ** \n"
   ]
  },
  {
   "cell_type": "markdown",
   "id": "phantom-cleaning",
   "metadata": {},
   "source": [
    "## Primeiro passo importar as bibliotecas que foram utilizadas durante a analise do projeto"
   ]
  },
  {
   "cell_type": "code",
   "execution_count": 1,
   "id": "facial-classroom",
   "metadata": {},
   "outputs": [],
   "source": [
    "import numpy as np\n",
    "import pandas as pd\n",
    "import re"
   ]
  },
  {
   "cell_type": "markdown",
   "id": "bearing-calendar",
   "metadata": {},
   "source": [
    "### Localizando o arquivo"
   ]
  },
  {
   "cell_type": "code",
   "execution_count": 2,
   "id": "entire-broad",
   "metadata": {},
   "outputs": [
    {
     "data": {
      "text/plain": [
       "'C:\\\\Users\\\\Erick\\\\Documents\\\\IronHack\\\\Projeto 1'"
      ]
     },
     "execution_count": 2,
     "metadata": {},
     "output_type": "execute_result"
    }
   ],
   "source": [
    "pwd"
   ]
  },
  {
   "cell_type": "markdown",
   "id": "current-bermuda",
   "metadata": {},
   "source": [
    "### carregar o arquivo dentro de um dataFrame, para poder fazer analises basicas de como está a base, tamanho e formato de dados"
   ]
  },
  {
   "cell_type": "code",
   "execution_count": 3,
   "id": "weird-madonna",
   "metadata": {},
   "outputs": [],
   "source": [
    "df = pd.read_csv('C:\\\\Users\\\\Erick\\\\Documents\\\\IronHack\\\\Projeto 1\\\\attacks.csv', delimiter=',')"
   ]
  },
  {
   "cell_type": "code",
   "execution_count": 4,
   "id": "unauthorized-frost",
   "metadata": {},
   "outputs": [],
   "source": [
    "species = ('zebra shark', 'wobbegong shark', 'whale shark', 'tiger shark',\n",
    "       'thresher shark', 'spiny dogfish shark', 'sandtiger shark',\n",
    "       'port jackson shark', 'nurse shark', 'mako shark',\n",
    "       'hammerhead shark', 'white shark', 'goblin shark',\n",
    "       'cookiecutter shark', 'bull shark', 'blue shark', 'blacktip shark',\n",
    "       'basking shark', 'angel shark')"
   ]
  },
  {
   "cell_type": "code",
   "execution_count": 5,
   "id": "consecutive-house",
   "metadata": {},
   "outputs": [],
   "source": [
    "df.columns = [x.lower().strip() for x in df.columns]"
   ]
  },
  {
   "cell_type": "code",
   "execution_count": 6,
   "id": "internal-canal",
   "metadata": {},
   "outputs": [
    {
     "data": {
      "text/plain": [
       "Index(['case number', 'date', 'year', 'type', 'country', 'area', 'location',\n",
       "       'activity', 'name', 'sex', 'age', 'injury', 'fatal (y/n)', 'time',\n",
       "       'species', 'investigator or source', 'pdf', 'href formula', 'href',\n",
       "       'case number.1', 'case number.2', 'original order', 'unnamed: 22',\n",
       "       'unnamed: 23'],\n",
       "      dtype='object')"
      ]
     },
     "execution_count": 6,
     "metadata": {},
     "output_type": "execute_result"
    }
   ],
   "source": [
    "df.columns"
   ]
  },
  {
   "cell_type": "markdown",
   "id": "fantastic-pocket",
   "metadata": {},
   "source": [
    "### Aqui separei as colunas que iria utilizar para que o DataFrame não ficasse poluido com informações que não seriam utilizadas ainda/nessa "
   ]
  },
  {
   "cell_type": "code",
   "execution_count": 7,
   "id": "damaged-footage",
   "metadata": {},
   "outputs": [],
   "source": [
    "columns_to_analyze = ['date', 'type', 'country', 'area', 'activity', 'sex', 'fatal (y/n)','species', 'time']"
   ]
  },
  {
   "cell_type": "code",
   "execution_count": 8,
   "id": "loved-august",
   "metadata": {},
   "outputs": [],
   "source": [
    "columns_to_drop = [column for column in df.columns if column not in columns_to_analyze]\n",
    "\n",
    "df.drop(columns=columns_to_drop, inplace=True)"
   ]
  },
  {
   "cell_type": "markdown",
   "id": "uniform-meditation",
   "metadata": {},
   "source": [
    "### Visualizando e corrigindo os metodos de dados que estavam bagunçados dentro da Coluna 'Fatal Y/N'"
   ]
  },
  {
   "cell_type": "code",
   "execution_count": 9,
   "id": "blessed-cheat",
   "metadata": {},
   "outputs": [],
   "source": [
    "df = df.dropna()"
   ]
  },
  {
   "cell_type": "code",
   "execution_count": 10,
   "id": "existing-demographic",
   "metadata": {},
   "outputs": [
    {
     "data": {
      "text/plain": [
       "Index(['date', 'type', 'country', 'area', 'activity', 'sex', 'fatal (y/n)',\n",
       "       'time', 'species'],\n",
       "      dtype='object')"
      ]
     },
     "execution_count": 10,
     "metadata": {},
     "output_type": "execute_result"
    }
   ],
   "source": [
    "df.columns"
   ]
  },
  {
   "cell_type": "code",
   "execution_count": 11,
   "id": "plain-martial",
   "metadata": {},
   "outputs": [
    {
     "data": {
      "text/plain": [
       "N          1406\n",
       "Y           250\n",
       " N            2\n",
       "UNKNOWN       1\n",
       "M             1\n",
       "2017          1\n",
       "Name: fatal (y/n), dtype: int64"
      ]
     },
     "execution_count": 11,
     "metadata": {},
     "output_type": "execute_result"
    }
   ],
   "source": [
    "df['fatal (y/n)'].value_counts()"
   ]
  },
  {
   "cell_type": "code",
   "execution_count": 12,
   "id": "behavioral-hampshire",
   "metadata": {},
   "outputs": [],
   "source": [
    "# removendo espaços em branco para melhorar a visualização\n",
    "df['fatal (y/n)'] = df['fatal (y/n)'].str.strip() "
   ]
  },
  {
   "cell_type": "code",
   "execution_count": 13,
   "id": "drawn-extraction",
   "metadata": {},
   "outputs": [],
   "source": [
    "# Corrigindo por meio de replace a letra M\n",
    "df['fatal (y/n)'] = df['fatal (y/n)'].str.upper().str.replace('M', 'N') #.value_counts()"
   ]
  },
  {
   "cell_type": "code",
   "execution_count": 14,
   "id": "centered-wright",
   "metadata": {},
   "outputs": [],
   "source": [
    "# Definindo 2017 como algo conhecido, inferencia, porém necessario para melhorar a analise\n",
    "df['fatal (y/n)'] = df['fatal (y/n)'].str.upper().str.replace('2017', 'UNKNOWN') #.value_counts()"
   ]
  },
  {
   "cell_type": "code",
   "execution_count": 15,
   "id": "interpreted-management",
   "metadata": {},
   "outputs": [],
   "source": [
    "df['species'] = df['species'].str.lower()"
   ]
  },
  {
   "cell_type": "code",
   "execution_count": 16,
   "id": "starting-bobby",
   "metadata": {},
   "outputs": [
    {
     "data": {
      "text/plain": [
       "white shark                                        92\n",
       "tiger shark                                        39\n",
       "4' shark                                           35\n",
       "bull shark                                         35\n",
       "1.8 m [6'] shark                                   23\n",
       "                                                   ..\n",
       "hammerhead shark. 6' to 7'                          1\n",
       "tiger shark, 4 m                                    1\n",
       "white shark, 2.1 m [7']  based on tooth pattern     1\n",
       "1.3 to 1.6 m shark                                  1\n",
       "1.5 m [5'] dusky shark                              1\n",
       "Name: species, Length: 923, dtype: int64"
      ]
     },
     "execution_count": 16,
     "metadata": {},
     "output_type": "execute_result"
    }
   ],
   "source": [
    "df.species.value_counts()"
   ]
  },
  {
   "cell_type": "code",
   "execution_count": 17,
   "id": "competent-catch",
   "metadata": {},
   "outputs": [],
   "source": [
    "df['type'] = df['type'].str.replace('Boatomg', 'Boating')"
   ]
  },
  {
   "cell_type": "code",
   "execution_count": 18,
   "id": "elect-public",
   "metadata": {},
   "outputs": [
    {
     "data": {
      "text/plain": [
       "10                                   grey reef shark\n",
       "13                                  invalid incident\n",
       "16                   shark involvement not confirmed\n",
       "20                                      questionable\n",
       "21                                         3 m shark\n",
       "                            ...                     \n",
       "5853                                       13' shark\n",
       "5882                                       68\" shark\n",
       "5910                                      wobbegongs\n",
       "5922    identified as c. gangeticus by dr. j. fayrer\n",
       "5970                                       16' shark\n",
       "Name: species, Length: 791, dtype: object"
      ]
     },
     "execution_count": 18,
     "metadata": {},
     "output_type": "execute_result"
    }
   ],
   "source": [
    "def normalize_species(x):\n",
    "    try:\n",
    "        for specie in species:\n",
    "            if specie in x:\n",
    "                return specie\n",
    "        return 'Others'\n",
    "    except:\n",
    "        return 'Others'\n",
    "\n",
    "df['species'] = df['species'].str.lower()    \n",
    "df['species_normalized'] = df['species'].map(normalize_species)\n",
    "df[df.species_normalized=='Others']['species'].dropna()"
   ]
  },
  {
   "cell_type": "code",
   "execution_count": 24,
   "id": "opening-edinburgh",
   "metadata": {},
   "outputs": [
    {
     "data": {
      "text/plain": [
       "<AxesSubplot:>"
      ]
     },
     "execution_count": 24,
     "metadata": {},
     "output_type": "execute_result"
    },
    {
     "data": {
      "image/png": "[encoded data removed]",
      "text/plain": [
       "<Figure size 432x288 with 1 Axes>"
      ]
     },
     "metadata": {
      "needs_background": "light"
     },
     "output_type": "display_data"
    }
   ],
   "source": [
    "df.groupby(\"activity\").filter(lambda x: len(x) > 100).activity.value_counts(ascending=False).plot.bar(color='blue')"
   ]
  },
  {
   "cell_type": "code",
   "execution_count": 41,
   "id": "comparative-bradley",
   "metadata": {},
   "outputs": [
    {
     "data": {
      "text/plain": [
       "<AxesSubplot:>"
      ]
     },
     "execution_count": 41,
     "metadata": {},
     "output_type": "execute_result"
    },
    {
     "data": {
      "image/png": "[encoded data removed]",
      "text/plain": [
       "<Figure size 432x288 with 1 Axes>"
      ]
     },
     "metadata": {
      "needs_background": "light"
     },
     "output_type": "display_data"
    }
   ],
   "source": [
    "sharks = df['species_normalized'].value_counts()\n",
    "sharks[sharks>50].head(10).plot.barh(color='red')"
   ]
  }
 ],
 "metadata": {
  "kernelspec": {
   "display_name": "Python 3",
   "language": "python",
   "name": "python3"
  },
  "language_info": {
   "codemirror_mode": {
    "name": "ipython",
    "version": 3
   },
   "file_extension": ".py",
   "mimetype": "text/x-python",
   "name": "python",
   "nbconvert_exporter": "python",
   "pygments_lexer": "ipython3",
   "version": "3.8.5"
  }
 },
 "nbformat": 4,
 "nbformat_minor": 5
}
