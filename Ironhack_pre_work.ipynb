{
  "nbformat": 4,
  "nbformat_minor": 0,
  "metadata": {
    "colab": {
      "name": "Ironhack_pre_work.ipynb",
      "private_outputs": true,
      "provenance": [],
      "authorship_tag": "ABX9TyMpWPZFcYCM101d3/A0CoMw",
      "include_colab_link": true
    },
    "kernelspec": {
      "name": "python3",
      "display_name": "Python 3"
    }
  },
  "cells": [
    {
      "cell_type": "markdown",
      "metadata": {
        "id": "view-in-github",
        "colab_type": "text"
      },
      "source": [
        "<a href=\"https://colab.research.google.com/github/ErVidotto/Bootcamp_ironhack/blob/main/Ironhack_pre_work.ipynb\" target=\"_parent\"><img src=\"https://colab.research.google.com/assets/colab-badge.svg\" alt=\"Open In Colab\"/></a>"
      ]
    },
    {
      "cell_type": "code",
      "metadata": {
        "id": "dtAH4j1Yx7fh"
      },
      "source": [
        "print (\"Hello Word\")"
      ],
      "execution_count": null,
      "outputs": []
    },
    {
      "cell_type": "code",
      "metadata": {
        "id": "VBAiit0ty-lm"
      },
      "source": [
        "#adição\n",
        "4+6\n",
        "\n",
        "# subtração\n",
        "100-80\n",
        "\n",
        "# Multiplicação\n",
        "9 * 8\n",
        "\n",
        "# Divisão\n",
        "200/24 \n",
        "\n",
        "# Expoente\n",
        "8**4"
      ],
      "execution_count": null,
      "outputs": []
    },
    {
      "cell_type": "code",
      "metadata": {
        "id": "glV6AcD4zjkm"
      },
      "source": [
        " type (\"I ate a banana\")\n",
        "type  (123)"
      ],
      "execution_count": null,
      "outputs": []
    },
    {
      "cell_type": "code",
      "metadata": {
        "id": "_mlTyVtIz852"
      },
      "source": [
        "\"Hello \" *8"
      ],
      "execution_count": null,
      "outputs": []
    },
    {
      "cell_type": "code",
      "metadata": {
        "id": "xojvV3W70c_a"
      },
      "source": [
        " # declarando variaveis para calculos matema\n",
        " x = 4\n",
        " y = 5\n",
        " z = x+y\n",
        " print (z)\n",
        " \n",
        "\n",
        "z*y"
      ],
      "execution_count": null,
      "outputs": []
    },
    {
      "cell_type": "code",
      "metadata": {
        "id": "7n3jyVcs1jpf"
      },
      "source": [
        "#Calculo de abrigo para animais\n",
        "cachorro = 40\n",
        "gatos = 25\n",
        "coelhos = 10\n",
        "\n",
        "shelter_length = 30\n",
        "shelter_width = 25\n",
        "total_animais = cachorro + gatos + coelhos\n",
        "sqft = shelter_length * shelter_width\n",
        "\n",
        "print (\"Total de animais:\", total_animais)\n",
        "print (\"Total shelter square feet:\", sqft)\n",
        "print (\"Square feet per animal:\", sqft/total_animais)"
      ],
      "execution_count": null,
      "outputs": []
    },
    {
      "cell_type": "code",
      "metadata": {
        "id": "4djoEiA04a6Y"
      },
      "source": [
        "#Entrada com variaveis a serem imputadas\n",
        "\n",
        "first_name = input (\"Enter you first name: \")\n",
        "\n",
        "print (\"Ola, \", first_name)"
      ],
      "execution_count": null,
      "outputs": []
    },
    {
      "cell_type": "code",
      "metadata": {
        "id": "dOTd9Xp-8L4e"
      },
      "source": [
        "dogs = int (input(\"Enter the number of dogs: \"))\n",
        "cats = int (input(\"Enter the number of cats: \"))\n",
        "rabitts = int (input(\"Enter the number of rabitts: \"))\n",
        "\n",
        "shelter_length = int (input(\"Enter the shelter length: \"))\n",
        "shelter_width = int (input(\"Enter the shelter width: \"))\n",
        "\n",
        "total_animals = dogs + cats + rabitts\n",
        "sqft = shelter_length * shelter_width\n",
        "print (\"Total number of animals: \", total_animals)\n",
        "print (\"Total shelter square feet: \", sqft)\n",
        "print (\"Total geet per animal: \", sqft/total_animals)\n",
        "\n",
        "#no exercicio proposto o resulta foi de 7,5, porém foi desconsiderado por mim por se tratar de um erro\n"
      ],
      "execution_count": null,
      "outputs": []
    },
    {
      "cell_type": "code",
      "metadata": {
        "id": "dJHfVHNUNb4z"
      },
      "source": [
        "len (\"automobile\")\n",
        "\n",
        "word = \"automobile\"\n",
        "word [4:]\n",
        "#Os dois pontos antes do número trás o começo da frase,\n",
        "#Os dois pontos depois do número trás o fim da frase\n",
        "\n"
      ],
      "execution_count": null,
      "outputs": []
    },
    {
      "cell_type": "code",
      "metadata": {
        "id": "8jH-EkgvQJEo"
      },
      "source": [
        "# Lista\n",
        "#[1,3,5,7,2,4,8,10]\n",
        " \n",
        "#['The', 'man', 'in', 'the', 'blue', 'suit']\n",
        " \n",
        "#['apple', 390, 876, 'orange', 'highway', 2, 87, 36]\n",
        "\n",
        "\n",
        "lst  = ['The', 'man', 'in', 'the', 'blue', 'suit']\n",
        "lst.append('jacket')\n",
        "lst\n",
        "\n",
        "lst.remove('suit')\n",
        "lst\n",
        "\n",
        "lst2 = ['and', 'the', 'green', 'trousers']\n",
        "comb_list = lst + lst2\n",
        "comb_list"
      ],
      "execution_count": null,
      "outputs": []
    },
    {
      "cell_type": "code",
      "metadata": {
        "id": "A6rhWAUsS70l"
      },
      "source": [
        "num_list = [34, 12, 93, 783, 330, 896, 1, 55]\n",
        "sum(num_list)\n",
        "\n",
        "sum(num_list)/len(num_list)"
      ],
      "execution_count": null,
      "outputs": []
    },
    {
      "cell_type": "code",
      "metadata": {
        "id": "iUHDDPhBTWxz"
      },
      "source": [
        "ages = {'Brian':23, 'Amy':22, 'Darlene':47, 'Ralph':32, 'Jordan':28, 'Stephanie':35}\n",
        "\n",
        "\n",
        "\n",
        "ages ['Vanessa'] = 30\n",
        "ages\n",
        "\n",
        "dell ages ['Vanessa']"
      ],
      "execution_count": null,
      "outputs": []
    },
    {
      "cell_type": "code",
      "metadata": {
        "id": "MiWIygX7UA8a"
      },
      "source": [
        "#Exemplo de tuplas\n",
        "\n",
        "a = [1,2,3,4,5]\n",
        "b = (1,2,3,4,5)\n",
        "\n",
        "a.append(6)\n",
        "a\n",
        "\n",
        "#b.append (6)\n",
        "#b (Amostra com erro por conta da tupla, que não é mutavel)\n",
        "tuple (a)\n"
      ],
      "execution_count": null,
      "outputs": []
    },
    {
      "cell_type": "code",
      "metadata": {
        "id": "l5JSIoDDWuut"
      },
      "source": [
        "#sequencia unica\n",
        "dupe_list = [1,2,2,3,3,3,4,4,4,4,5,5,5,5,5]\n",
        "uniques = set(dupe_list)\n",
        "uniques"
      ],
      "execution_count": null,
      "outputs": []
    },
    {
      "cell_type": "code",
      "metadata": {
        "id": "WoQr_buvW_5a"
      },
      "source": [
        "happy = True\n",
        "print(\"Happy variable is set to \", happy)"
      ],
      "execution_count": null,
      "outputs": []
    },
    {
      "cell_type": "code",
      "metadata": {
        "id": "2UeecXcMXMsM"
      },
      "source": [
        "print(5 + 5 == 10)\n",
        "print('apple' != 'orange')\n",
        "print(100 > 75)\n",
        "print(93 < 80)\n",
        "print(3 in [1,2,3,4,5])\n",
        "print(3 not in [1,2,3,4,5])\n",
        "\n",
        "\n",
        "print((5 + 5 == 10) & ('apple' != 'orange'))\n",
        "print((100 > 75) & (93 < 80))\n",
        "print((100 > 75) | (93 < 80))\n",
        "print((93 < 80) | (3 not in [1,2,3,4,5]))"
      ],
      "execution_count": null,
      "outputs": []
    },
    {
      "cell_type": "code",
      "metadata": {
        "id": "fmWQeuhnXmhG"
      },
      "source": [
        "number = 10\n",
        "\n",
        "if number < 10:\n",
        "  print (\"Number is less than 10\")\n",
        "elif number > 10:\n",
        "  print (\"Number is greater than 10\")\n",
        "elif number == 10:\n",
        "  print (\"Number is exactly 10\")\n",
        "else:\n",
        "  print (\"Number is probably not a number ar all\")"
      ],
      "execution_count": null,
      "outputs": []
    },
    {
      "cell_type": "code",
      "metadata": {
        "id": "ZL9fx7OtY_J8"
      },
      "source": [
        "commute = 30\n",
        "rain = False\n",
        "traffic = True\n",
        " \n",
        "if (rain == True) | (traffic == True):\n",
        "    if (rain == True) & (traffic == True):\n",
        "        total_commute = commute + 15 + 20\n",
        "    elif (rain == True) & (traffic == False):\n",
        "        total_commute = commute + 15\n",
        "    elif (rain == False) & (traffic == True):\n",
        "        total_commute = commute + 20\n",
        "else:\n",
        "    total_commute = commute\n",
        "print(\"Your total commute time is expected to be\", total_commute, \"minutes.\")"
      ],
      "execution_count": null,
      "outputs": []
    },
    {
      "cell_type": "code",
      "metadata": {
        "id": "5L3aQENiaiYj"
      },
      "source": [
        "#Funções em loop\n",
        "range (10)\n",
        "range (5,15)\n",
        "\n",
        "len(range(5, 15))\n",
        "\n",
        "for i in range(5,15):\n",
        "  print (i)  "
      ],
      "execution_count": null,
      "outputs": []
    },
    {
      "cell_type": "code",
      "metadata": {
        "id": "_RdgLCaxbShd"
      },
      "source": [
        "fruits = ['apple', 'orange', 'banana', 'grapes', 'pineapple']\n",
        " \n",
        "for fruit in fruits:\n",
        "    print(fruit)"
      ],
      "execution_count": null,
      "outputs": []
    },
    {
      "cell_type": "code",
      "metadata": {
        "id": "VLiDhNWQ8JFz"
      },
      "source": [
        "ages = {'Brian':23, 'Amy':22, 'Darlene':47, 'Ralph':32, 'Jordan':28, 'Stephanie':35}\n",
        "\n",
        "for name, age in ages.items():\n",
        "    print(name, \"is\", age, \"years old.\")\n"
      ],
      "execution_count": null,
      "outputs": []
    },
    {
      "cell_type": "code",
      "metadata": {
        "id": "hdd8hLfY8Ypc"
      },
      "source": [
        "num_list = [34, 12, 93, 783, 330, 896, 1, 55]\n",
        "total = 0\n",
        "\n",
        "for i in num_list:\n",
        "  total +=i\n",
        "  print (\"Total is currently\", total)"
      ],
      "execution_count": null,
      "outputs": []
    },
    {
      "cell_type": "code",
      "metadata": {
        "id": "l-yxO_X-9B11"
      },
      "source": [
        "new_list = []\n",
        "\n",
        "for i in range(1, 11):\n",
        "    square = i**2\n",
        "    new_list.append(square)\n",
        "\n",
        "print(new_list)\n"
      ],
      "execution_count": null,
      "outputs": []
    },
    {
      "cell_type": "code",
      "metadata": {
        "id": "YrMvyFlE938E"
      },
      "source": [
        "total_time =60\n",
        "minutes_elapsed = 0\n",
        "wait = 15\n",
        "\n",
        "print(\"Cake is in the oven.\")\n",
        "minutes_elapsed += wait\n",
        "\n",
        "while minutes_elapsed < total_time:\n",
        "  print(\"Cake is not done yet.\")\n",
        "  minutes_elapsed += wait\n",
        "\n",
        "print(\"It's done. Lets eat\")"
      ],
      "execution_count": null,
      "outputs": []
    },
    {
      "cell_type": "code",
      "metadata": {
        "id": "n02QtcYW_i6t"
      },
      "source": [
        "import os\n",
        "os.getcwd()\n",
        "'/ironhack/01-python-beginner'\n",
        "\n",
        "root = 'C:'\n",
        "level_1 = 'ironhack'\n",
        "level_2 = 'module_0'\n",
        "level_3 = 'python-beginner'\n",
        "level_4 = 'data'\n",
        "\n",
        "os.path.join(root, level_1, level_2, level_3, level_4)"
      ],
      "execution_count": null,
      "outputs": []
    },
    {
      "cell_type": "code",
      "metadata": {
        "id": "GBPPoU4RBt02"
      },
      "source": [
        "folder_name = \"new_folder\"\n",
        "\n",
        "if  os.path.exists(folder_name) == False:\n",
        "    os.makedirs(folder_name)"
      ],
      "execution_count": null,
      "outputs": []
    },
    {
      "cell_type": "code",
      "metadata": {
        "id": "3LpzrMbHCS6B"
      },
      "source": [
        "with open(\"exemple.txt\",\"w\") as f:\n",
        "  f.write(\"Hello World! \\n\")\n",
        "  f.write(\"How are you? \\n\")\n",
        "  f.write(\"I'm fine.\")"
      ],
      "execution_count": null,
      "outputs": []
    },
    {
      "cell_type": "code",
      "metadata": {
        "id": "iwsbmcCxDs-x"
      },
      "source": [
        "with open(\"exemple.txt\", \"r\") as f:\n",
        "  lines =f.readlines()\n",
        "  for line in lines:\n",
        "    print(line)"
      ],
      "execution_count": null,
      "outputs": []
    },
    {
      "cell_type": "code",
      "metadata": {
        "id": "0qPNGmGyFRSb"
      },
      "source": [
        "data = []\n",
        "\n",
        "with open(\"weight_height.csv\", \"r\") as f:\n",
        "    lines = f.readlines()\n",
        "    for line in lines:\n",
        "        data.append(line.split()[0].split(\",\"))\n",
        "\n",
        "        "
      ],
      "execution_count": null,
      "outputs": []
    },
    {
      "cell_type": "code",
      "metadata": {
        "id": "wJJOcfV4HtA5"
      },
      "source": [
        "data [0]\n"
      ],
      "execution_count": null,
      "outputs": []
    },
    {
      "cell_type": "code",
      "metadata": {
        "id": "hrjJGS46Hxrg"
      },
      "source": [
        "avg_height = sum(heights)/len(heights)\n",
        "print(avg_height)\n"
      ],
      "execution_count": null,
      "outputs": []
    },
    {
      "cell_type": "code",
      "metadata": {
        "id": "zeBYnO9XIu3D"
      },
      "source": [
        "heights = []\n",
        "\n",
        "for person in data[1:]:\n",
        "    height = int(person[2])\n",
        "    heights.append(height)\n"
      ],
      "execution_count": null,
      "outputs": []
    },
    {
      "cell_type": "code",
      "metadata": {
        "id": "fYG6zcxEI-zH"
      },
      "source": [
        "male_heights = []\n",
        "female_heights = []\n",
        "\n",
        "for person in data[1:]:\n",
        "    height = int(person[2])\n",
        "    if person[0] == 'M':\n",
        "        male_heights.append(height)\n",
        "    elif person[0] == 'F':\n",
        "        female_heights.append(height)\n",
        "\n",
        "avg_male_height = sum(male_heights)/len(male_heights)\n",
        "avg_female_height = sum(female_heights)/len(female_heights)\n",
        "\n",
        "print(\"Avg male height:\", avg_male_height)\n",
        "print(\"Avg female height\", avg_female_height)\n"
      ],
      "execution_count": null,
      "outputs": []
    }
  ]
}